{
 "cells": [
  {
   "cell_type": "code",
   "execution_count": 1,
   "id": "328df121-96dd-4cac-b2a6-e5da7b00b604",
   "metadata": {},
   "outputs": [],
   "source": [
    "import torch\n",
    "import torchvision"
   ]
  },
  {
   "cell_type": "code",
   "execution_count": 5,
   "id": "27972913-a33f-45dc-a6f6-8e87900529db",
   "metadata": {},
   "outputs": [
    {
     "data": {
      "text/plain": [
       "\"welcome everyone to cloud computing this summer's method twenty twenty it's a remarkable semester because at least right now and from the beginning everything will be online so nice to have you here so the first video is a little bit about the background some introduction. and to set the stage so let's go. um i'd like to start with the quote i often do so be prepared um and this is from sir ken robinson so if you're not prepared to be wrong you'll never come up with anything original so. yeah be wrong be wrong before the exam. um and then be prepared for the exam and be prepared to take the exam but be prepared and be ready to take an exam and you're doing something new and i think we will both you and i learn a lot in this course. this is um yeah in the beginning i want to give a little amount about um organization information a bit about myself um and they were introduced in the new stuff which is going on in computer science in cloud computing i start with client server some fundamental. laws and limitations and finally started with per computing in different\""
      ]
     },
     "execution_count": 5,
     "metadata": {},
     "output_type": "execute_result"
    }
   ],
   "source": [
    "#BART\n",
    "from transformers import AutoTokenizer\n",
    "from transformers import AutoModelForSeq2SeqLM\n",
    "text= \"welcome everyone to cloud computing this summer's method twenty twenty it's a remarkable semester because at least right now and from the beginning everything will be online so nice to have you here so the first video is a little bit about the background some introduction. and to set the stage so let's go. um i'd like to start with the quote i often do so be prepared um and this is from sir ken robinson so if you're not prepared to be wrong you'll never come up with anything original so. yeah be wrong be wrong before the exam. um and then come up with something original you're doing something new and i think we will both you and i learn a lot in this course. this is um yeah in the beginning i want to give a little bit about um organization information a bit about myself um and they were introduced in the new stuff which is going on in computer science in cloud computing i start with client server some fundamental. laws and limitations and finally started with per computing in different technologies right there. so he go who am i. professor goodhart um um. the program share of general computer signs my teaching interests aren't asia project management especially scrum i have been a scrum master and scrum mentor when i was with s a p research formerly um i love software engineering programming especially web and mobile development. and i do like human computer interaction um and something a little bit off topic as life coaching so helping people achieving their gold limit similar to mentoring but um of a different soil so he's my email address my phone number although this is my office phone number. i'm starting there so you may try it but um good luck to reach me there but my email address you can use ah my office which is the room here given one forty two but probably i will not be there right especially in the semester. probably be at home so drop me a line um and then we want to have some video conference or it's all to handling any kind of problems. thanks credits this course and the material yeah much of this content is provided by christian bone um he and i will do in this course um interchangeable and so sometimes he does the chorus sometimes i so. we're using the same footage. we do have a moodle course you should know this because you've found the video probably right there so check in there it's not just the videos you will find there but also on the exercise sheets and although these sheets are not necessary to purchase. but in the written exam at the end it's highly recommended to do this and especially i actually you only learn when you do the things by yourself and not by listen to me or watching this video so go there and do the sheets um do them in pairs or in groups of. um but do it and not just see something something else someone else as some other people doing this. and it's this is true. and from mr miyagi probably many of you do know the video on the movie um from karate kid. it is especially true in the semester are not only the students learned from his mercer also the master learns from his tune and i think in this semester we're all students. at least i have never done an online course in the manner we're doing now so be gracious i will be with you. there i would probably do some mist will make some mistakes um yeah but i think we've learned a lot both you and i in this course so. let's get into it some final words. this is what open often happens right we dune lectures on. and we as teachers trying to do things fancy to keep your attention into on but you are boring you don't do anything um usually i do something special for this that you don't get the chance to do some presentations but and this semester um. we're not doing this and the overall online setting makes it really difficult um so you need to be disciplined you need to take care of yourself i can't do it's your job i can just prepare some stuff for you i can guide you i can provide mature. rural for you i can provide be used and exercise sheets. and you don't have to do them but you have to do them to pass the exam in especially you have to do them to learn something so. yeah. really. be disciplined um try to not lose track of. find groups on or at least pairs work together through this course with others and then we will all successful okay so that's it's far um in the next video we're starting with some introductions\"\n",
    "tokenizer = AutoTokenizer.from_pretrained(\"facebook/bart-large\")\n",
    "inputs = tokenizer(text[:1000], return_tensors=\"pt\").input_ids\n",
    "model = AutoModelForSeq2SeqLM.from_pretrained(\"facebook/bart-large\")\n",
    "outputs = model.generate(inputs, max_new_tokens=256, do_sample=False)\n",
    "tokenizer.decode(outputs[0], skip_special_tokens=True)"
   ]
  },
  {
   "cell_type": "code",
   "execution_count": 3,
   "id": "25ad4810-1883-43e4-b7d7-9b5b41e00387",
   "metadata": {},
   "outputs": [
    {
     "name": "stdout",
     "output_type": "stream",
     "text": [
      "Title: Cloud computing 2020 online course Summary: This summer's cloud computing method twenty twenty is a remarkable semester. At least right now everything will be on the internet so nice to get you here so first video is about the background and some introduction. And then we're going to start with some introduction of the new stuff that is going on for computer science in software engineering programming, especially web or mobile development. So who am i professor goodhart? I have been a Scrum master and Scrum mentor when I was with S a P research formerly.\n"
     ]
    }
   ],
   "source": [
    "from transformers import LongT5ForConditionalGeneration, T5Tokenizer\n",
    "\n",
    "checkpoint = \"joemgu/mlong-t5-large-sumstew\"\n",
    "\n",
    "gen_kwargs = {\n",
    "    \"max_length\": 10000,\n",
    "    \"do_sample\": False,\n",
    "    \"num_beams\": 4, # higher = better, but uses more memory\n",
    "    \"use_cache\": True, # Set to False if running out of memory, but will be MUCH slower\n",
    "    \"early_stopping\": True,\n",
    "    \"num_return_sequences\": 1,\n",
    "    \"repetition_penalty\": 3.5,\n",
    "    \"encoder_repetition_penalty\": 2.0,\n",
    "    \"length_penalty\": 1.0, # higher = longer summaries\n",
    "    \"encoder_no_repeat_ngram_size\": 4,\n",
    "    \"no_repeat_ngram_size\": 6,\n",
    "}\n",
    "\n",
    "model = LongT5ForConditionalGeneration.from_pretrained(checkpoint)\n",
    "tokenizer = T5Tokenizer.from_pretrained(checkpoint)\n",
    "\n",
    "prefix = \"Write a title and summarize: \"\n",
    "input_document = \"welcome everyone to cloud computing this summer's method twenty twenty it's a remarkable semester because at least right now and from the beginning everything will be online so nice to have you here so the first video is a little bit about the background some introduction. and to set the stage so let's go. um i'd like to start with the quote i often do so be prepared um and this is from sir ken robinson so if you're not prepared to be wrong you'll never come up with anything original so. yeah be wrong be wrong before the exam. um and then come up with something original you're doing something new and i think we will both you and i learn a lot in this course. this is um yeah in the beginning i want to give a little bit about um organization information a bit about myself um and they were introduced in the new stuff which is going on in computer science in cloud computing i start with client server some fundamental. laws and limitations and finally started with per computing in different technologies right there. so he go who am i. professor goodhart um um. the program share of general computer signs my teaching interests aren't asia project management especially scrum i have been a scrum master and scrum mentor when i was with s a p research formerly um i love software engineering programming especially web and mobile development. and i do like human computer interaction um and something a little bit off topic as life coaching so helping people achieving their gold limit similar to mentoring but um of a different soil so he's my email address my phone number although this is my office phone number. i'm starting there so you may try it but um good luck to reach me there but my email address you can use ah my office which is the room here given one forty two but probably i will not be there right especially in the semester. probably be at home so drop me a line um and then we want to have some video conference or it's all to handling any kind of problems. thanks credits this course and the material yeah much of this content is provided by christian bone um he and i will do in this course um interchangeable and so sometimes he does the chorus sometimes i so. we're using the same footage. we do have a moodle course you should know this because you've found the video probably right there so check in there it's not just the videos you will find there but also on the exercise sheets and although these sheets are not necessary to purchase. but in the written exam at the end it's highly recommended to do this and especially i actually you only learn when you do the things by yourself and not by listen to me or watching this video so go there and do the sheets um do them in pairs or in groups of. um but do it and not just see something something else someone else as some other people doing this. and it's this is true. and from mr miyagi probably many of you do know the video on the movie um from karate kid. it is especially true in the semester are not only the students learned from his mercer also the master learns from his tune and i think in this semester we're all students. at least i have never done an online course in the manner we're doing now so be gracious i will be with you. there i would probably do some mist will make some mistakes um yeah but i think we've learned a lot both you and i in this course so. let's get into it some final words. this is what open often happens right we dune lectures on. and we as teachers trying to do things fancy to keep your attention into on but you are boring you don't do anything um usually i do something special for this that you don't get the chance to do some presentations but and this semester um. we're not doing this and the overall online setting makes it really difficult um so you need to be disciplined you need to take care of yourself i can't do it's your job i can just prepare some stuff for you i can guide you i can provide mature. rural for you i can provide be used and exercise sheets. and you don't have to do them but you have to do them to pass the exam in especially you have to do them to learn something so. yeah. really. be disciplined um try to not lose track of. find groups on or at least pairs work together through this course with others and then we will all successful okay so that's it's far um in the next video we're starting with some introductions\"\n",
    "\n",
    "inputs = tokenizer(prefix + input_document, return_tensors=\"pt\", max_length=16384, truncation=True, add_special_tokens=True)\n",
    "\n",
    "outputs = model.generate(**inputs, **gen_kwargs)\n",
    "\n",
    "print(tokenizer.decode(outputs[0], skip_special_tokens=True))"
   ]
  },
  {
   "cell_type": "code",
   "execution_count": 4,
   "id": "2cced14a-fad6-4aed-989c-665018066d70",
   "metadata": {},
   "outputs": [
    {
     "data": {
      "application/vnd.jupyter.widget-view+json": {
       "model_id": "92f06536ce304789a54724a44efc64f6",
       "version_major": 2,
       "version_minor": 0
      },
      "text/plain": [
       "Downloading (…)lve/main/config.json:   0%|          | 0.00/1.63k [00:00<?, ?B/s]"
      ]
     },
     "metadata": {},
     "output_type": "display_data"
    },
    {
     "data": {
      "application/vnd.jupyter.widget-view+json": {
       "model_id": "14478b4c741444af8dc7fcacb401e35e",
       "version_major": 2,
       "version_minor": 0
      },
      "text/plain": [
       "Downloading pytorch_model.bin:   0%|          | 0.00/1.63G [00:00<?, ?B/s]"
      ]
     },
     "metadata": {},
     "output_type": "display_data"
    },
    {
     "data": {
      "application/vnd.jupyter.widget-view+json": {
       "model_id": "b6b906e929ff4fdcb884895ae90a6480",
       "version_major": 2,
       "version_minor": 0
      },
      "text/plain": [
       "Downloading (…)okenizer_config.json:   0%|          | 0.00/300 [00:00<?, ?B/s]"
      ]
     },
     "metadata": {},
     "output_type": "display_data"
    },
    {
     "data": {
      "application/vnd.jupyter.widget-view+json": {
       "model_id": "0769dbf2e1bb4549b250c0bf14624b3d",
       "version_major": 2,
       "version_minor": 0
      },
      "text/plain": [
       "Downloading (…)olve/main/vocab.json:   0%|          | 0.00/798k [00:00<?, ?B/s]"
      ]
     },
     "metadata": {},
     "output_type": "display_data"
    },
    {
     "data": {
      "application/vnd.jupyter.widget-view+json": {
       "model_id": "949678e0d74d42bd9655a9f635eac835",
       "version_major": 2,
       "version_minor": 0
      },
      "text/plain": [
       "Downloading (…)olve/main/merges.txt:   0%|          | 0.00/456k [00:00<?, ?B/s]"
      ]
     },
     "metadata": {},
     "output_type": "display_data"
    },
    {
     "data": {
      "application/vnd.jupyter.widget-view+json": {
       "model_id": "26f43b3a298f47f38ffaa8fde5cc3cd3",
       "version_major": 2,
       "version_minor": 0
      },
      "text/plain": [
       "Downloading (…)cial_tokens_map.json:   0%|          | 0.00/239 [00:00<?, ?B/s]"
      ]
     },
     "metadata": {},
     "output_type": "display_data"
    },
    {
     "data": {
      "text/plain": [
       "[{'summary_text': \"Professor Goodhart is introducing his students to cloud computing this summer's method twenty twenty. The material provided by Christian Bone is interchangeable and so he and professor Goodhart will do the same footage. Professor Goodhart has never done an online course in the manner they're doing now.\"}]"
      ]
     },
     "execution_count": 4,
     "metadata": {},
     "output_type": "execute_result"
    }
   ],
   "source": [
    "from transformers import pipeline\n",
    "summarizer = pipeline(\"summarization\", model=\"philschmid/bart-large-cnn-samsum\")\n",
    "\n",
    "conversation = \"welcome everyone to cloud computing this summer's method twenty twenty it's a remarkable semester because at least right now and from the beginning everything will be online so nice to have you here so the first video is a little bit about the background some introduction. and to set the stage so let's go. um i'd like to start with the quote i often do so be prepared um and this is from sir ken robinson so if you're not prepared to be wrong you'll never come up with anything original so. yeah be wrong be wrong before the exam. um and then come up with something original you're doing something new and i think we will both you and i learn a lot in this course. this is um yeah in the beginning i want to give a little bit about um organization information a bit about myself um and they were introduced in the new stuff which is going on in computer science in cloud computing i start with client server some fundamental. laws and limitations and finally started with per computing in different technologies right there. so he go who am i. professor goodhart um um. the program share of general computer signs my teaching interests aren't asia project management especially scrum i have been a scrum master and scrum mentor when i was with s a p research formerly um i love software engineering programming especially web and mobile development. and i do like human computer interaction um and something a little bit off topic as life coaching so helping people achieving their gold limit similar to mentoring but um of a different soil so he's my email address my phone number although this is my office phone number. i'm starting there so you may try it but um good luck to reach me there but my email address you can use ah my office which is the room here given one forty two but probably i will not be there right especially in the semester. probably be at home so drop me a line um and then we want to have some video conference or it's all to handling any kind of problems. thanks credits this course and the material yeah much of this content is provided by christian bone um he and i will do in this course um interchangeable and so sometimes he does the chorus sometimes i so. we're using the same footage. we do have a moodle course you should know this because you've found the video probably right there so check in there it's not just the videos you will find there but also on the exercise sheets and although these sheets are not necessary to purchase. but in the written exam at the end it's highly recommended to do this and especially i actually you only learn when you do the things by yourself and not by listen to me or watching this video so go there and do the sheets um do them in pairs or in groups of. um but do it and not just see something something else someone else as some other people doing this. and it's this is true. and from mr miyagi probably many of you do know the video on the movie um from karate kid. it is especially true in the semester are not only the students learned from his mercer also the master learns from his tune and i think in this semester we're all students. at least i have never done an online course in the manner we're doing now so be gracious i will be with you. there i would probably do some mist will make some mistakes um yeah but i think we've learned a lot both you and i in this course so. let's get into it some final words. this is what open often happens right we dune lectures on. and we as teachers trying to do things fancy to keep your attention into on but you are boring you don't do anything um usually i do something special for this that you don't get the chance to do some presentations but and this semester um. we're not doing this and the overall online setting makes it really difficult um so you need to be disciplined you need to take care of yourself i can't do it's your job i can just prepare some stuff for you i can guide you i can provide mature. rural for you i can provide be used and exercise sheets. and you don't have to do them but you have to do them to pass the exam in especially you have to do them to learn something so. yeah. really. be disciplined um try to not lose track of. find groups on or at least pairs work together through this course with others and then we will all successful okay so that's it's far um in the next video we're starting with some introductions\"\n",
    "\n",
    "summarizer(conversation)"
   ]
  },
  {
   "cell_type": "code",
   "execution_count": 19,
   "id": "7d6ebba3-307d-4522-b23d-0596a8b2c1c7",
   "metadata": {},
   "outputs": [],
   "source": [
    "input_text= \"welcome everyone to cloud computing this summer's method twenty twenty it's a remarkable semester because at least right now and from the beginning everything will be online so nice to have you here so the first video is a little bit about the background some introduction. and to set the stage so let's go. um i'd like to start with the quote i often do so be prepared um and this is from sir ken robinson so if you're not prepared to be wrong you'll never come up with anything original so. yeah be wrong be wrong before the exam. um and then come up with something original you're doing something new and i think we will both you and i learn a lot in this course. this is um yeah in the beginning i want to give a little bit about um organization information a bit about myself um and they were introduced in the new stuff which is going on in computer science in cloud computing i start with client server some fundamental. laws and limitations and finally started with per computing in different technologies right there. so he go who am i. professor goodhart um um. the program share of general computer signs my teaching interests aren't asia project management especially scrum i have been a scrum master and scrum mentor when i was with s a p research formerly um i love software engineering programming especially web and mobile development. and i do like human computer interaction um and something a little bit off topic as life coaching so helping people achieving their gold limit similar to mentoring but um of a different soil so he's my email address my phone number although this is my office phone number. i'm starting there so you may try it but um good luck to reach me there but my email address you can use ah my office which is the room here given one forty two but probably i will not be there right especially in the semester. probably be at home so drop me a line um and then we want to have some video conference or it's all to handling any kind of problems. thanks credits this course and the material yeah much of this content is provided by christian bone um he and i will do in this course um interchangeable and so sometimes he does the chorus sometimes i so. we're using the same footage. we do have a moodle course you should know this because you've found the video probably right there so check in there it's not just the videos you will find there but also on the exercise sheets and although these sheets are not necessary to purchase. but in the written exam at the end it's highly recommended to do this and especially i actually you only learn when you do the things by yourself and not by listen to me or watching this video so go there and do the sheets um do them in pairs or in groups of. um but do it and not just see something something else someone else as some other people doing this. and it's this is true. and from mr miyagi probably many of you do know the video on the movie um from karate kid. it is especially true in the semester are not only the students learned from his mercer also the master learns from his tune and i think in this semester we're all students. at least i have never done an online course in the manner we're doing now so be gracious i will be with you. there i would probably do some mist will make some mistakes um yeah but i think we've learned a lot both you and i in this course so. let's get into it some final words. this is what open often happens right we dune lectures on. and we as teachers trying to do things fancy to keep your attention into on but you are boring you don't do anything um usually i do something special for this that you don't get the chance to do some presentations but and this semester um. we're not doing this and the overall online setting makes it really difficult um so you need to be disciplined you need to take care of yourself i can't do it's your job i can just prepare some stuff for you i can guide you i can provide mature. rural for you i can provide be used and exercise sheets. and you don't have to do them but you have to do them to pass the exam in especially you have to do them to learn something so. yeah. really. be disciplined um try to not lose track of. find groups on or at least pairs work together through this course with others and then we will all successful okay so that's it's far um in the next video we're starting with some introductions\""
   ]
  },
  {
   "cell_type": "code",
   "execution_count": 20,
   "id": "217e70ae-f787-4100-afa6-247720c15eac",
   "metadata": {},
   "outputs": [
    {
     "data": {
      "application/vnd.jupyter.widget-view+json": {
       "model_id": "3dcfd3a6595d4b3b8bc6ab6b88e17ef6",
       "version_major": 2,
       "version_minor": 0
      },
      "text/plain": [
       "Downloading (…)olve/main/vocab.json:   0%|          | 0.00/899k [00:00<?, ?B/s]"
      ]
     },
     "metadata": {},
     "output_type": "display_data"
    },
    {
     "data": {
      "application/vnd.jupyter.widget-view+json": {
       "model_id": "4b9ef81bc26d4a239aff326fffd28734",
       "version_major": 2,
       "version_minor": 0
      },
      "text/plain": [
       "Downloading (…)olve/main/merges.txt:   0%|          | 0.00/456k [00:00<?, ?B/s]"
      ]
     },
     "metadata": {},
     "output_type": "display_data"
    },
    {
     "data": {
      "application/vnd.jupyter.widget-view+json": {
       "model_id": "49ed70ef89a043348c5d889aa7615a2d",
       "version_major": 2,
       "version_minor": 0
      },
      "text/plain": [
       "Downloading (…)lve/main/config.json:   0%|          | 0.00/1.58k [00:00<?, ?B/s]"
      ]
     },
     "metadata": {},
     "output_type": "display_data"
    },
    {
     "data": {
      "application/vnd.jupyter.widget-view+json": {
       "model_id": "868959f29fb04eb4a0ead32e38b72fa2",
       "version_major": 2,
       "version_minor": 0
      },
      "text/plain": [
       "Downloading pytorch_model.bin:   0%|          | 0.00/1.63G [00:00<?, ?B/s]"
      ]
     },
     "metadata": {},
     "output_type": "display_data"
    },
    {
     "data": {
      "application/vnd.jupyter.widget-view+json": {
       "model_id": "0f5ab61341eb4972b322f1a327ef82d5",
       "version_major": 2,
       "version_minor": 0
      },
      "text/plain": [
       "Downloading (…)neration_config.json:   0%|          | 0.00/363 [00:00<?, ?B/s]"
      ]
     },
     "metadata": {},
     "output_type": "display_data"
    },
    {
     "name": "stdout",
     "output_type": "stream",
     "text": [
      "welcome everyone to cloud computing this summer's method twenty twenty it's a remarkable semester because at least right now and from the beginning everything will be online. Much of this content is provided by christian bone and he and i will do in this course.\n"
     ]
    }
   ],
   "source": [
    "from transformers import BartForConditionalGeneration, BartTokenizer\n",
    "\n",
    "model_name = \"facebook/bart-large-cnn\"\n",
    "tokenizer = BartTokenizer.from_pretrained(model_name)\n",
    "model = BartForConditionalGeneration.from_pretrained(model_name)\n",
    "\n",
    "\n",
    "inputs = tokenizer(input_text, return_tensors=\"pt\", max_length=1024, truncation=True)\n",
    "summary_ids = model.generate(inputs[\"input_ids\"], num_beams=4, max_length=150, min_length=40, length_penalty=2.0, num_return_sequences=1)\n",
    "\n",
    "summary = tokenizer.decode(summary_ids[0], skip_special_tokens=True)\n",
    "print(summary)"
   ]
  },
  {
   "cell_type": "code",
   "execution_count": 31,
   "id": "9ad79fca-0dea-4283-aee5-3e8a5b0fd9dc",
   "metadata": {},
   "outputs": [
    {
     "name": "stderr",
     "output_type": "stream",
     "text": [
      "Some weights of GPT2ForSequenceClassification were not initialized from the model checkpoint at gpt2 and are newly initialized: ['score.weight']\n",
      "You should probably TRAIN this model on a down-stream task to be able to use it for predictions and inference.\n"
     ]
    },
    {
     "name": "stdout",
     "output_type": "stream",
     "text": [
      "mar sum\n"
     ]
    }
   ],
   "source": [
    "from transformers import GPT2Tokenizer, GPT2ForSequenceClassification\n",
    "import torch\n",
    "\n",
    "model_name = \"gpt2\"\n",
    "tokenizer = GPT2Tokenizer.from_pretrained(model_name)\n",
    "model = GPT2ForSequenceClassification.from_pretrained(model_name)\n",
    "\n",
    "input_ids = tokenizer.encode(input_text, return_tensors=\"pt\", max_length=1024, truncation=True)\n",
    "\n",
    "with torch.no_grad():\n",
    "    logits = model(input_ids).logits\n",
    "\n",
    "sentence_scores = logits[0].softmax(dim=0)  # Rank sentences based on their likelihood\n",
    "sorted_indices = sentence_scores.argsort(descending=True)\n",
    "\n",
    "summary_indices = sorted_indices[:3]  # Select the top 3 sentences as the summary\n",
    "summary = \" \".join([tokenizer.decode(input_ids[0, i]) for i in summary_indices])\n",
    "print(summary)"
   ]
  },
  {
   "cell_type": "code",
   "execution_count": 29,
   "id": "3a8c5149-204b-471f-8b60-bea2af08dcfa",
   "metadata": {},
   "outputs": [
    {
     "name": "stdout",
     "output_type": "stream",
     "text": [
      "christian bone um is a scrum master and mentor at a p research. he and christian bone will do in this course interchangeable and so sometimes he does the chorus sometimes i so. it's especially true in the semester are not only the students learned from his mercer also the master learns from his tune and it's true. christian bone is a scrum master and a scrum mentor at the university of london.\n"
     ]
    }
   ],
   "source": [
    "from transformers import T5ForConditionalGeneration, T5Tokenizer\n",
    "\n",
    "model_name = \"t5-small\"\n",
    "tokenizer = T5Tokenizer.from_pretrained(model_name)\n",
    "model = T5ForConditionalGeneration.from_pretrained(model_name)\n",
    "\n",
    "input_text = \"summarize: \" + input_text\n",
    "inputs = tokenizer(input_text, return_tensors=\"pt\", max_length=1024, truncation=True)\n",
    "summary_ids = model.generate(inputs[\"input_ids\"], num_beams=4, max_length=250, min_length=40, length_penalty=2.0, num_return_sequences=1)\n",
    "\n",
    "summary = tokenizer.decode(summary_ids[0], skip_special_tokens=True)\n",
    "print(summary)"
   ]
  },
  {
   "cell_type": "code",
   "execution_count": 27,
   "id": "40149b6b-9a1c-447b-90a7-ea12053efdb3",
   "metadata": {},
   "outputs": [
    {
     "name": "stderr",
     "output_type": "stream",
     "text": [
      "Some weights of PegasusForConditionalGeneration were not initialized from the model checkpoint at google/pegasus-large and are newly initialized: ['model.encoder.embed_positions.weight', 'model.decoder.embed_positions.weight']\n",
      "You should probably TRAIN this model on a down-stream task to be able to use it for predictions and inference.\n"
     ]
    },
    {
     "name": "stdout",
     "output_type": "stream",
     "text": [
      "um i'd like to start with the quote i often do so be prepared um and this is from sir ken robinson so if you're not prepared to be wrong you'll never come up with anything original so. um and then come up with something original you're doing something new and i think we will both you and i learn a lot in this course. this is um yeah in the beginning i want to give a little bit about um organization information a bit about myself um and they were introduced in the new stuff which is going on in computer science in cloud computing i start with client server some fundamental.\n"
     ]
    }
   ],
   "source": [
    "from transformers import PegasusForConditionalGeneration, PegasusTokenizer\n",
    "\n",
    "model_name = \"google/pegasus-large\"\n",
    "tokenizer = PegasusTokenizer.from_pretrained(model_name)\n",
    "model = PegasusForConditionalGeneration.from_pretrained(model_name)\n",
    "\n",
    "inputs = tokenizer(input_text, return_tensors=\"pt\", max_length=1024, truncation=True)\n",
    "summary_ids = model.generate(inputs[\"input_ids\"], max_length=250, min_length=40, length_penalty=2.0, num_return_sequences=1)\n",
    "\n",
    "summary = tokenizer.decode(summary_ids[0], skip_special_tokens=True)\n",
    "print(summary)"
   ]
  },
  {
   "cell_type": "code",
   "execution_count": 28,
   "id": "0f263920-12e2-4cbd-a8c3-e64ade4ea79f",
   "metadata": {},
   "outputs": [
    {
     "name": "stdout",
     "output_type": "stream",
     "text": [
      "christian bone um is a scrum master and scrum mentor. he and christian bone will do in this course interchangeable and so sometimes he does the chorus sometimes i so. it's especially true in the semester are not only the students learned from his mercer also the master learns from his tune. mr miyagi probably many of you do know the video on the movie um from karate kid.\n"
     ]
    }
   ],
   "source": [
    "from transformers import T5ForConditionalGeneration, T5Tokenizer\n",
    "\n",
    "model_name = \"t5-small\"\n",
    "tokenizer = T5Tokenizer.from_pretrained(model_name)\n",
    "model = T5ForConditionalGeneration.from_pretrained(model_name)\n",
    "\n",
    "\n",
    "input_text = \"summarize: \" + input_text\n",
    "inputs = tokenizer(input_text, return_tensors=\"pt\", max_length=1024, truncation=True)\n",
    "summary_ids = model.generate(inputs[\"input_ids\"], num_beams=4, max_length=250, min_length=40, length_penalty=2.0, num_return_sequences=1)\n",
    "\n",
    "summary = tokenizer.decode(summary_ids[0], skip_special_tokens=True)\n",
    "print(summary)"
   ]
  },
  {
   "cell_type": "code",
   "execution_count": 33,
   "id": "9f7c7a49-49ad-4a3a-8fcd-a4b004cb14c4",
   "metadata": {},
   "outputs": [
    {
     "name": "stderr",
     "output_type": "stream",
     "text": [
      "/home/dlobo/miniconda3/lib/python3.11/site-packages/torch/cuda/__init__.py:546: UserWarning: Can't initialize NVML\n",
      "  warnings.warn(\"Can't initialize NVML\")\n"
     ]
    },
    {
     "data": {
      "application/vnd.jupyter.widget-view+json": {
       "model_id": "bf8090e31c3d434884315ee5cf527fd5",
       "version_major": 2,
       "version_minor": 0
      },
      "text/plain": [
       "Downloading (…)lve/main/config.json:   0%|          | 0.00/571 [00:00<?, ?B/s]"
      ]
     },
     "metadata": {},
     "output_type": "display_data"
    },
    {
     "data": {
      "application/vnd.jupyter.widget-view+json": {
       "model_id": "0fc1d90d829f4661acf8ad9a64ff569d",
       "version_major": 2,
       "version_minor": 0
      },
      "text/plain": [
       "Downloading model.safetensors:   0%|          | 0.00/1.34G [00:00<?, ?B/s]"
      ]
     },
     "metadata": {},
     "output_type": "display_data"
    },
    {
     "data": {
      "application/vnd.jupyter.widget-view+json": {
       "model_id": "e8b80c63b10f4926b45c9aca9fc07dee",
       "version_major": 2,
       "version_minor": 0
      },
      "text/plain": [
       "Downloading (…)solve/main/vocab.txt:   0%|          | 0.00/232k [00:00<?, ?B/s]"
      ]
     },
     "metadata": {},
     "output_type": "display_data"
    },
    {
     "data": {
      "application/vnd.jupyter.widget-view+json": {
       "model_id": "e9120046abca4abfa76e3d4b68a8ea14",
       "version_major": 2,
       "version_minor": 0
      },
      "text/plain": [
       "Downloading (…)okenizer_config.json:   0%|          | 0.00/28.0 [00:00<?, ?B/s]"
      ]
     },
     "metadata": {},
     "output_type": "display_data"
    },
    {
     "name": "stderr",
     "output_type": "stream",
     "text": [
      "/home/dlobo/miniconda3/lib/python3.11/site-packages/sklearn/cluster/_kmeans.py:1416: FutureWarning: The default value of `n_init` will change from 10 to 'auto' in 1.4. Set the value of `n_init` explicitly to suppress the warning\n",
      "  super()._check_params_vs_input(X, default_n_init=10)\n"
     ]
    },
    {
     "name": "stdout",
     "output_type": "stream",
     "text": [
      "summarize: summarize: summarize: summarize: welcome everyone to cloud computing this summer's method twenty twenty it's a remarkable semester because at least right now and from the beginning everything will be online so nice to have you here so the first video is a little bit about the background some introduction. so he go who am i. professor goodhart um um. but in the written exam at the end it's highly recommended to do this and especially i actually you only learn when you do the things by yourself and not by listen to me or watching this video so go there and do the sheets um do them in pairs or in groups of. at least i have never done an online course in the manner we're doing now so be gracious i will be with you. this is what open often happens right we dune lectures on.\n"
     ]
    }
   ],
   "source": [
    "from summarizer import Summarizer\n",
    "\n",
    "model = Summarizer()\n",
    "summary = model(input_text)\n",
    "\n",
    "print(summary)"
   ]
  },
  {
   "cell_type": "code",
   "execution_count": 51,
   "id": "f7e79d62-c0d0-44f7-9f04-beabf3add94d",
   "metadata": {},
   "outputs": [
    {
     "data": {
      "application/vnd.jupyter.widget-view+json": {
       "model_id": "a24215ffcab94dd29fd74785b8a2f8b7",
       "version_major": 2,
       "version_minor": 0
      },
      "text/plain": [
       "Downloading (…)okenizer_config.json:   0%|          | 0.00/2.36k [00:00<?, ?B/s]"
      ]
     },
     "metadata": {},
     "output_type": "display_data"
    },
    {
     "data": {
      "application/vnd.jupyter.widget-view+json": {
       "model_id": "52c1be922e8b446faa4e0523e0296300",
       "version_major": 2,
       "version_minor": 0
      },
      "text/plain": [
       "Downloading spiece.model:   0%|          | 0.00/792k [00:00<?, ?B/s]"
      ]
     },
     "metadata": {},
     "output_type": "display_data"
    },
    {
     "data": {
      "application/vnd.jupyter.widget-view+json": {
       "model_id": "5e7f8dceea1e42e280117a2e6b3100b5",
       "version_major": 2,
       "version_minor": 0
      },
      "text/plain": [
       "Downloading (…)/main/tokenizer.json:   0%|          | 0.00/2.42M [00:00<?, ?B/s]"
      ]
     },
     "metadata": {},
     "output_type": "display_data"
    },
    {
     "data": {
      "application/vnd.jupyter.widget-view+json": {
       "model_id": "4f30b058c344425f8a45568c1b4edc28",
       "version_major": 2,
       "version_minor": 0
      },
      "text/plain": [
       "Downloading (…)cial_tokens_map.json:   0%|          | 0.00/2.20k [00:00<?, ?B/s]"
      ]
     },
     "metadata": {},
     "output_type": "display_data"
    },
    {
     "data": {
      "application/vnd.jupyter.widget-view+json": {
       "model_id": "0d3b871796e84fd2941acd3186391868",
       "version_major": 2,
       "version_minor": 0
      },
      "text/plain": [
       "Downloading (…)lve/main/config.json:   0%|          | 0.00/1.05k [00:00<?, ?B/s]"
      ]
     },
     "metadata": {},
     "output_type": "display_data"
    },
    {
     "data": {
      "application/vnd.jupyter.widget-view+json": {
       "model_id": "444a219bb5734e678d5654c15cd682bb",
       "version_major": 2,
       "version_minor": 0
      },
      "text/plain": [
       "Downloading model.safetensors:   0%|          | 0.00/990M [00:00<?, ?B/s]"
      ]
     },
     "metadata": {},
     "output_type": "display_data"
    },
    {
     "name": "stderr",
     "output_type": "stream",
     "text": [
      "/home/dlobo/miniconda3/lib/python3.11/site-packages/transformers/modeling_utils.py:863: FutureWarning: The `device` argument is deprecated and will be removed in v5 of Transformers.\n",
      "  warnings.warn(\n"
     ]
    },
    {
     "data": {
      "text/plain": [
       "'In this first of two short introductions to cloud computing, we learn about the new features and how to use them.'"
      ]
     },
     "execution_count": 51,
     "metadata": {},
     "output_type": "execute_result"
    }
   ],
   "source": [
    "from transformers import AutoTokenizer\n",
    "from transformers import AutoModelForSeq2SeqLM\n",
    "\n",
    "text= \"welcome everyone to cloud computing this summer's method twenty twenty it's a remarkable semester because at least right now and from the beginning everything will be online so nice to have you here so the first video is a little bit about the background some introduction. and to set the stage so let's go. um i'd like to start with the quote i often do so be prepared um and this is from sir ken robinson so if you're not prepared to be wrong you'll never come up with anything original so. yeah be wrong be wrong before the exam. um and then come up with something original you're doing something new and i think we will both you and i learn a lot in this course. this is um yeah in the beginning i want to give a little bit about um organization information a bit about myself um and they were introduced in the new stuff which is going on in computer science in cloud computing i start with client server some fundamental. laws and limitations and finally started with per computing in different technologies right there. so he go who am i. professor goodhart um um. the program share of general computer signs my teaching interests aren't asia project management especially scrum i have been a scrum master and scrum mentor when i was with s a p research formerly um i love software engineering programming especially web and mobile development. and i do like human computer interaction um and something a little bit off topic as life coaching so helping people achieving their gold limit similar to mentoring but um of a different soil so he's my email address my phone number although this is my office phone number. i'm starting there so you may try it but um good luck to reach me there but my email address you can use ah my office which is the room here given one forty two but probably i will not be there right especially in the semester. probably be at home so drop me a line um and then we want to have some video conference or it's all to handling any kind of problems. thanks credits this course and the material yeah much of this content is provided by christian bone um he and i will do in this course um interchangeable and so sometimes he does the chorus sometimes i so. we're using the same footage. we do have a moodle course you should know this because you've found the video probably right there so check in there it's not just the videos you will find there but also on the exercise sheets and although these sheets are not necessary to purchase. but in the written exam at the end it's highly recommended to do this and especially i actually you only learn when you do the things by yourself and not by listen to me or watching this video so go there and do the sheets um do them in pairs or in groups of. um but do it and not just see something something else someone else as some other people doing this. and it's this is true. and from mr miyagi probably many of you do know the video on the movie um from karate kid. it is especially true in the semester are not only the students learned from his mercer also the master learns from his tune and i think in this semester we're all students. at least i have never done an online course in the manner we're doing now so be gracious i will be with you. there i would probably do some mist will make some mistakes um yeah but i think we've learned a lot both you and i in this course so. let's get into it some final words. this is what open often happens right we dune lectures on. and we as teachers trying to do things fancy to keep your attention into on but you are boring you don't do anything um usually i do something special for this that you don't get the chance to do some presentations but and this semester um. we're not doing this and the overall online setting makes it really difficult um so you need to be disciplined you need to take care of yourself i can't do it's your job i can just prepare some stuff for you i can guide you i can provide mature. rural for you i can provide be used and exercise sheets. and you don't have to do them but you have to do them to pass the exam in especially you have to do them to learn something so. yeah. really. be disciplined um try to not lose track of. find groups on or at least pairs work together through this course with others and then we will all successful okay so that's it's far um in the next video we're starting with some introductions\"\n",
    "tokenizer = AutoTokenizer.from_pretrained(\"pszemraj/long-t5-tglobal-base-16384-book-summary\")\n",
    "inputs = tokenizer(text[:500], return_tensors=\"pt\").input_ids\n",
    "model = AutoModelForSeq2SeqLM.from_pretrained(\"pszemraj/long-t5-tglobal-base-16384-book-summary\")\n",
    "outputs = model.generate(inputs, max_new_tokens=100, do_sample=False)\n",
    "tokenizer.decode(outputs[0], skip_special_tokens=True)"
   ]
  },
  {
   "cell_type": "code",
   "execution_count": 53,
   "id": "1fca2090-bbb4-4e66-af39-3ca8b95a8bf3",
   "metadata": {},
   "outputs": [
    {
     "name": "stderr",
     "output_type": "stream",
     "text": [
      "Since the GPL-licensed package `unidecode` is not installed, using Python's `unicodedata` package which yields worse results.\n",
      "10/02/2023 02:32:31 INFO Loaded model pszemraj/long-t5-tglobal-base-16384-book-summary to cuda\n"
     ]
    },
    {
     "data": {
      "application/vnd.jupyter.widget-view+json": {
       "model_id": "aa918d9767bd4343942a1cf0ce091571",
       "version_major": 2,
       "version_minor": 0
      },
      "text/plain": [
       "Generating Summaries:   0%|          | 0/1 [00:00<?, ?it/s]"
      ]
     },
     "metadata": {},
     "output_type": "display_data"
    },
    {
     "name": "stdout",
     "output_type": "stream",
     "text": [
      "summary: In this first chapter, the narrator introduces us to his mentor, professor goodhart. He tells us that he is a former scrum master who loves cloud-computing and life coaching. We're also introduced to Christian Bone, who is one of the students in the course. They're watching the same scenes from the movie \"Karate kid\" and discussing how important it is for students to learn by themselves.\n"
     ]
    }
   ],
   "source": [
    "from textsum.summarize import Summarizer\n",
    "\n",
    "summarizer = Summarizer(\n",
    "    model_name_or_path=\"pszemraj/long-t5-tglobal-base-16384-book-summary\"\n",
    ")\n",
    "\n",
    "\n",
    "out_str = summarizer.summarize_string(text)\n",
    "print(f\"summary: {out_str}\")"
   ]
  },
  {
   "cell_type": "code",
   "execution_count": 54,
   "id": "cae703e4-c89a-4714-8c38-fe9622288993",
   "metadata": {},
   "outputs": [
    {
     "name": "stdout",
     "output_type": "stream",
     "text": [
      "In this first part of the course, students learn about cloud computing and how to use it to create applications. The instructor explains that he is a former scrum master who loves helping people achieve their gold limit in life. He also introduces some of the exercises that students will take on the exam.\n"
     ]
    }
   ],
   "source": [
    "import torch\n",
    "from transformers import pipeline\n",
    "\n",
    "summarizer = pipeline(\n",
    "    \"summarization\",\n",
    "    \"pszemraj/long-t5-tglobal-base-16384-book-summary\",\n",
    "    device=0 if torch.cuda.is_available() else -1,\n",
    ")\n",
    "\n",
    "\n",
    "result = summarizer(text)\n",
    "print(result[0][\"summary_text\"])"
   ]
  },
  {
   "cell_type": "code",
   "execution_count": 62,
   "id": "c01bff07-bde0-4b14-a5ac-f8e676a6aad2",
   "metadata": {},
   "outputs": [],
   "source": [
    "import logging\n",
    "import pprint as pp\n",
    "\n",
    "logging.basicConfig(level=logging.INFO, format=\"%(asctime)s - %(message)s\")\n",
    "\n",
    "import torch\n",
    "from tqdm.auto import tqdm\n",
    "from transformers import AutoModelForSeq2SeqLM, AutoTokenizer\n",
    "\n",
    "\n",
    "\n",
    "def load_model_and_tokenizer(model_name: str) -> tuple:\n",
    "    \"\"\"\n",
    "    load_model_and_tokenizer - load a model and tokenizer from a model name/ID on the hub\n",
    "    :param str model_name: the model name/ID on the hub\n",
    "    :return tuple: a tuple containing the model and tokenizer\n",
    "    \"\"\"\n",
    "    device = \"cuda\" if torch.cuda.is_available() else \"cpu\"\n",
    "    model = AutoModelForSeq2SeqLM.from_pretrained(\n",
    "        model_name,\n",
    "    ).to(device)\n",
    "    model = model.eval()\n",
    "\n",
    "    tokenizer = AutoTokenizer.from_pretrained(model_name)\n",
    "\n",
    "    logging.info(f\"Loaded model {model_name} to {device}\")\n",
    "\n",
    "\n",
    "    return model, tokenizer\n",
    "\n",
    "\n",
    "def summarize_and_score(\n",
    "    ids, mask, model, tokenizer, is_general_attention_model=True, **kwargs\n",
    ") -> tuple:\n",
    "    \"\"\"\n",
    "    summarize_and_score - given a batch of ids and a mask, return a summary and a score for the summary\n",
    "    Args:\n",
    "        ids (): the batch of ids\n",
    "        mask (): the attention mask for the batch\n",
    "        model   (): the model to use for summarization\n",
    "        tokenizer (): the tokenizer to use for summarization\n",
    "        is_general_attention_model (bool, optional): whether the model is a general attention model. Defaults to True.\n",
    "        **kwargs: any additional arguments to pass to the model\n",
    "    Returns:\n",
    "        tuple (str, float): the summary,  the score for the summary\n",
    "    \"\"\"\n",
    "\n",
    "    ids = ids[None, :]\n",
    "    mask = mask[None, :]\n",
    "\n",
    "    input_ids = ids.to(\"cuda\") if torch.cuda.is_available() else ids\n",
    "    attention_mask = mask.to(\"cuda\") if torch.cuda.is_available() else mask\n",
    "\n",
    "    global_attention_mask = torch.zeros_like(attention_mask)\n",
    "    # put global attention on <s> token\n",
    "    global_attention_mask[:, 0] = 1\n",
    "\n",
    "    if is_general_attention_model:\n",
    "        summary_pred_ids = model.generate(\n",
    "            input_ids,\n",
    "            attention_mask=attention_mask,\n",
    "            output_scores=True,\n",
    "            return_dict_in_generate=True,\n",
    "            **kwargs,\n",
    "        )\n",
    "    else:\n",
    "        summary_pred_ids = model.generate(\n",
    "            input_ids,\n",
    "            attention_mask=attention_mask,\n",
    "            global_attention_mask=global_attention_mask,\n",
    "            output_scores=True,\n",
    "            return_dict_in_generate=True,\n",
    "            **kwargs,\n",
    "        )\n",
    "    summary = tokenizer.batch_decode(\n",
    "        summary_pred_ids.sequences,\n",
    "        skip_special_tokens=True,\n",
    "        remove_invalid_values=True,\n",
    "    )\n",
    "    score = round(summary_pred_ids.sequences_scores.cpu().numpy()[0], 4)\n",
    "\n",
    "    return summary, score\n",
    "\n",
    "\n",
    "def summarize_via_tokenbatches(\n",
    "    input_text: str,\n",
    "    model,\n",
    "    tokenizer,\n",
    "    batch_length=2048,\n",
    "    batch_stride=16,\n",
    "    min_batch_length=512,\n",
    "    **kwargs,\n",
    ") -> list:\n",
    "    \"\"\"\n",
    "    summarize_via_tokenbatches - summarize a long string via batches of tokens\n",
    "    Args:\n",
    "        input_text (str): the text to summarize\n",
    "        model (): the model to use for summarization\n",
    "        tokenizer (): the tokenizer to use for summarization\n",
    "        batch_length (int, optional): the length of each batch. Defaults to 2048.\n",
    "        batch_stride (int, optional): the stride of each batch. Defaults to 16. The stride is the number of tokens that overlap between batches.\n",
    "        min_batch_length (int, optional): the minimum length of each batch. Defaults to 512.\n",
    "        **kwargs: any additional arguments to pass to the model for inference\n",
    "    Returns:\n",
    "        list: a list of dictionaries containing the input tokens, the summary, and the summary score\n",
    "    \"\"\"\n",
    "\n",
    "    logger = logging.getLogger(__name__)\n",
    "    # log all input parameters\n",
    "    if batch_length < min_batch_length:\n",
    "        logger.warning(\n",
    "            f\"batch_length must be at least {min_batch_length}. Setting batch_length to {min_batch_length}\"\n",
    "        )\n",
    "        batch_length = min_batch_length\n",
    "\n",
    "    logger.info(f\"input parameters:\\n{pp.pformat(kwargs)}\")\n",
    "    logger.info(f\"batch_length: {batch_length}, batch_stride: {batch_stride}\")\n",
    "\n",
    "    encoded_input = tokenizer(\n",
    "        input_text,\n",
    "        padding=\"max_length\",\n",
    "        truncation=True,\n",
    "        max_length=batch_length,\n",
    "        stride=batch_stride,\n",
    "        return_overflowing_tokens=True,\n",
    "        add_special_tokens=False,\n",
    "        return_tensors=\"pt\",\n",
    "    )\n",
    "\n",
    "    in_id_arr, att_arr = encoded_input.input_ids, encoded_input.attention_mask\n",
    "    gen_summaries = []\n",
    "\n",
    "    pbar = tqdm(total=len(in_id_arr))\n",
    "\n",
    "    for _id, _mask in zip(in_id_arr, att_arr):\n",
    "        result, score = summarize_and_score(\n",
    "            ids=_id,\n",
    "            mask=_mask,\n",
    "            model=model,\n",
    "            tokenizer=tokenizer,\n",
    "            **kwargs,\n",
    "        )\n",
    "        score = round(float(score), 4)\n",
    "        _sum = {\n",
    "            \"input_tokens\": _id,\n",
    "            \"summary\": result,\n",
    "            \"summary_score\": score,\n",
    "        }\n",
    "        gen_summaries.append(_sum)\n",
    "        logger.debug(f\"Score for batch: {score}. num chars: {len(repr(result))}\")\n",
    "        logger.debug(f\"Summary:\\n\\t{result}\")\n",
    "        pbar.update()\n",
    "\n",
    "    pbar.close()\n",
    "\n",
    "    return gen_summaries"
   ]
  },
  {
   "cell_type": "code",
   "execution_count": 94,
   "id": "d7042a9f-fd04-4f64-9301-342f82c6363b",
   "metadata": {},
   "outputs": [
    {
     "ename": "RuntimeError",
     "evalue": "CUDA error: device-side assert triggered\nCUDA kernel errors might be asynchronously reported at some other API call, so the stacktrace below might be incorrect.\nFor debugging consider passing CUDA_LAUNCH_BLOCKING=1.\nCompile with `TORCH_USE_CUDA_DSA` to enable device-side assertions.\n",
     "output_type": "error",
     "traceback": [
      "\u001b[0;31m---------------------------------------------------------------------------\u001b[0m",
      "\u001b[0;31mRuntimeError\u001b[0m                              Traceback (most recent call last)",
      "Cell \u001b[0;32mIn[94], line 1\u001b[0m\n\u001b[0;32m----> 1\u001b[0m model, tokenizer \u001b[38;5;241m=\u001b[39m \u001b[43mload_model_and_tokenizer\u001b[49m\u001b[43m(\u001b[49m\u001b[38;5;124;43m\"\u001b[39;49m\u001b[38;5;124;43mphilschmid/bart-large-cnn-samsum\u001b[39;49m\u001b[38;5;124;43m\"\u001b[39;49m\u001b[43m)\u001b[49m\n",
      "Cell \u001b[0;32mIn[62], line 21\u001b[0m, in \u001b[0;36mload_model_and_tokenizer\u001b[0;34m(model_name)\u001b[0m\n\u001b[1;32m     13\u001b[0m \u001b[38;5;250m\u001b[39m\u001b[38;5;124;03m\"\"\"\u001b[39;00m\n\u001b[1;32m     14\u001b[0m \u001b[38;5;124;03mload_model_and_tokenizer - load a model and tokenizer from a model name/ID on the hub\u001b[39;00m\n\u001b[1;32m     15\u001b[0m \u001b[38;5;124;03m:param str model_name: the model name/ID on the hub\u001b[39;00m\n\u001b[1;32m     16\u001b[0m \u001b[38;5;124;03m:return tuple: a tuple containing the model and tokenizer\u001b[39;00m\n\u001b[1;32m     17\u001b[0m \u001b[38;5;124;03m\"\"\"\u001b[39;00m\n\u001b[1;32m     18\u001b[0m device \u001b[38;5;241m=\u001b[39m \u001b[38;5;124m\"\u001b[39m\u001b[38;5;124mcuda\u001b[39m\u001b[38;5;124m\"\u001b[39m \u001b[38;5;28;01mif\u001b[39;00m torch\u001b[38;5;241m.\u001b[39mcuda\u001b[38;5;241m.\u001b[39mis_available() \u001b[38;5;28;01melse\u001b[39;00m \u001b[38;5;124m\"\u001b[39m\u001b[38;5;124mcpu\u001b[39m\u001b[38;5;124m\"\u001b[39m\n\u001b[1;32m     19\u001b[0m model \u001b[38;5;241m=\u001b[39m \u001b[43mAutoModelForSeq2SeqLM\u001b[49m\u001b[38;5;241;43m.\u001b[39;49m\u001b[43mfrom_pretrained\u001b[49m\u001b[43m(\u001b[49m\n\u001b[1;32m     20\u001b[0m \u001b[43m    \u001b[49m\u001b[43mmodel_name\u001b[49m\u001b[43m,\u001b[49m\n\u001b[0;32m---> 21\u001b[0m \u001b[43m\u001b[49m\u001b[43m)\u001b[49m\u001b[38;5;241;43m.\u001b[39;49m\u001b[43mto\u001b[49m\u001b[43m(\u001b[49m\u001b[43mdevice\u001b[49m\u001b[43m)\u001b[49m\n\u001b[1;32m     22\u001b[0m model \u001b[38;5;241m=\u001b[39m model\u001b[38;5;241m.\u001b[39meval()\n\u001b[1;32m     24\u001b[0m tokenizer \u001b[38;5;241m=\u001b[39m AutoTokenizer\u001b[38;5;241m.\u001b[39mfrom_pretrained(model_name)\n",
      "File \u001b[0;32m~/miniconda3/lib/python3.11/site-packages/transformers/modeling_utils.py:2058\u001b[0m, in \u001b[0;36mPreTrainedModel.to\u001b[0;34m(self, *args, **kwargs)\u001b[0m\n\u001b[1;32m   2053\u001b[0m     \u001b[38;5;28;01mraise\u001b[39;00m \u001b[38;5;167;01mValueError\u001b[39;00m(\n\u001b[1;32m   2054\u001b[0m         \u001b[38;5;124m\"\u001b[39m\u001b[38;5;124m`.to` is not supported for `4-bit` or `8-bit` bitsandbytes models. Please use the model as it is, since the\u001b[39m\u001b[38;5;124m\"\u001b[39m\n\u001b[1;32m   2055\u001b[0m         \u001b[38;5;124m\"\u001b[39m\u001b[38;5;124m model has already been set to the correct devices and casted to the correct `dtype`.\u001b[39m\u001b[38;5;124m\"\u001b[39m\n\u001b[1;32m   2056\u001b[0m     )\n\u001b[1;32m   2057\u001b[0m \u001b[38;5;28;01melse\u001b[39;00m:\n\u001b[0;32m-> 2058\u001b[0m     \u001b[38;5;28;01mreturn\u001b[39;00m \u001b[38;5;28;43msuper\u001b[39;49m\u001b[43m(\u001b[49m\u001b[43m)\u001b[49m\u001b[38;5;241;43m.\u001b[39;49m\u001b[43mto\u001b[49m\u001b[43m(\u001b[49m\u001b[38;5;241;43m*\u001b[39;49m\u001b[43margs\u001b[49m\u001b[43m,\u001b[49m\u001b[43m \u001b[49m\u001b[38;5;241;43m*\u001b[39;49m\u001b[38;5;241;43m*\u001b[39;49m\u001b[43mkwargs\u001b[49m\u001b[43m)\u001b[49m\n",
      "File \u001b[0;32m~/miniconda3/lib/python3.11/site-packages/torch/nn/modules/module.py:1145\u001b[0m, in \u001b[0;36mModule.to\u001b[0;34m(self, *args, **kwargs)\u001b[0m\n\u001b[1;32m   1141\u001b[0m         \u001b[38;5;28;01mreturn\u001b[39;00m t\u001b[38;5;241m.\u001b[39mto(device, dtype \u001b[38;5;28;01mif\u001b[39;00m t\u001b[38;5;241m.\u001b[39mis_floating_point() \u001b[38;5;129;01mor\u001b[39;00m t\u001b[38;5;241m.\u001b[39mis_complex() \u001b[38;5;28;01melse\u001b[39;00m \u001b[38;5;28;01mNone\u001b[39;00m,\n\u001b[1;32m   1142\u001b[0m                     non_blocking, memory_format\u001b[38;5;241m=\u001b[39mconvert_to_format)\n\u001b[1;32m   1143\u001b[0m     \u001b[38;5;28;01mreturn\u001b[39;00m t\u001b[38;5;241m.\u001b[39mto(device, dtype \u001b[38;5;28;01mif\u001b[39;00m t\u001b[38;5;241m.\u001b[39mis_floating_point() \u001b[38;5;129;01mor\u001b[39;00m t\u001b[38;5;241m.\u001b[39mis_complex() \u001b[38;5;28;01melse\u001b[39;00m \u001b[38;5;28;01mNone\u001b[39;00m, non_blocking)\n\u001b[0;32m-> 1145\u001b[0m \u001b[38;5;28;01mreturn\u001b[39;00m \u001b[38;5;28;43mself\u001b[39;49m\u001b[38;5;241;43m.\u001b[39;49m\u001b[43m_apply\u001b[49m\u001b[43m(\u001b[49m\u001b[43mconvert\u001b[49m\u001b[43m)\u001b[49m\n",
      "File \u001b[0;32m~/miniconda3/lib/python3.11/site-packages/torch/nn/modules/module.py:797\u001b[0m, in \u001b[0;36mModule._apply\u001b[0;34m(self, fn)\u001b[0m\n\u001b[1;32m    795\u001b[0m \u001b[38;5;28;01mdef\u001b[39;00m \u001b[38;5;21m_apply\u001b[39m(\u001b[38;5;28mself\u001b[39m, fn):\n\u001b[1;32m    796\u001b[0m     \u001b[38;5;28;01mfor\u001b[39;00m module \u001b[38;5;129;01min\u001b[39;00m \u001b[38;5;28mself\u001b[39m\u001b[38;5;241m.\u001b[39mchildren():\n\u001b[0;32m--> 797\u001b[0m         \u001b[43mmodule\u001b[49m\u001b[38;5;241;43m.\u001b[39;49m\u001b[43m_apply\u001b[49m\u001b[43m(\u001b[49m\u001b[43mfn\u001b[49m\u001b[43m)\u001b[49m\n\u001b[1;32m    799\u001b[0m     \u001b[38;5;28;01mdef\u001b[39;00m \u001b[38;5;21mcompute_should_use_set_data\u001b[39m(tensor, tensor_applied):\n\u001b[1;32m    800\u001b[0m         \u001b[38;5;28;01mif\u001b[39;00m torch\u001b[38;5;241m.\u001b[39m_has_compatible_shallow_copy_type(tensor, tensor_applied):\n\u001b[1;32m    801\u001b[0m             \u001b[38;5;66;03m# If the new tensor has compatible tensor type as the existing tensor,\u001b[39;00m\n\u001b[1;32m    802\u001b[0m             \u001b[38;5;66;03m# the current behavior is to change the tensor in-place using `.data =`,\u001b[39;00m\n\u001b[0;32m   (...)\u001b[0m\n\u001b[1;32m    807\u001b[0m             \u001b[38;5;66;03m# global flag to let the user control whether they want the future\u001b[39;00m\n\u001b[1;32m    808\u001b[0m             \u001b[38;5;66;03m# behavior of overwriting the existing tensor or not.\u001b[39;00m\n",
      "File \u001b[0;32m~/miniconda3/lib/python3.11/site-packages/torch/nn/modules/module.py:797\u001b[0m, in \u001b[0;36mModule._apply\u001b[0;34m(self, fn)\u001b[0m\n\u001b[1;32m    795\u001b[0m \u001b[38;5;28;01mdef\u001b[39;00m \u001b[38;5;21m_apply\u001b[39m(\u001b[38;5;28mself\u001b[39m, fn):\n\u001b[1;32m    796\u001b[0m     \u001b[38;5;28;01mfor\u001b[39;00m module \u001b[38;5;129;01min\u001b[39;00m \u001b[38;5;28mself\u001b[39m\u001b[38;5;241m.\u001b[39mchildren():\n\u001b[0;32m--> 797\u001b[0m         \u001b[43mmodule\u001b[49m\u001b[38;5;241;43m.\u001b[39;49m\u001b[43m_apply\u001b[49m\u001b[43m(\u001b[49m\u001b[43mfn\u001b[49m\u001b[43m)\u001b[49m\n\u001b[1;32m    799\u001b[0m     \u001b[38;5;28;01mdef\u001b[39;00m \u001b[38;5;21mcompute_should_use_set_data\u001b[39m(tensor, tensor_applied):\n\u001b[1;32m    800\u001b[0m         \u001b[38;5;28;01mif\u001b[39;00m torch\u001b[38;5;241m.\u001b[39m_has_compatible_shallow_copy_type(tensor, tensor_applied):\n\u001b[1;32m    801\u001b[0m             \u001b[38;5;66;03m# If the new tensor has compatible tensor type as the existing tensor,\u001b[39;00m\n\u001b[1;32m    802\u001b[0m             \u001b[38;5;66;03m# the current behavior is to change the tensor in-place using `.data =`,\u001b[39;00m\n\u001b[0;32m   (...)\u001b[0m\n\u001b[1;32m    807\u001b[0m             \u001b[38;5;66;03m# global flag to let the user control whether they want the future\u001b[39;00m\n\u001b[1;32m    808\u001b[0m             \u001b[38;5;66;03m# behavior of overwriting the existing tensor or not.\u001b[39;00m\n",
      "File \u001b[0;32m~/miniconda3/lib/python3.11/site-packages/torch/nn/modules/module.py:820\u001b[0m, in \u001b[0;36mModule._apply\u001b[0;34m(self, fn)\u001b[0m\n\u001b[1;32m    816\u001b[0m \u001b[38;5;66;03m# Tensors stored in modules are graph leaves, and we don't want to\u001b[39;00m\n\u001b[1;32m    817\u001b[0m \u001b[38;5;66;03m# track autograd history of `param_applied`, so we have to use\u001b[39;00m\n\u001b[1;32m    818\u001b[0m \u001b[38;5;66;03m# `with torch.no_grad():`\u001b[39;00m\n\u001b[1;32m    819\u001b[0m \u001b[38;5;28;01mwith\u001b[39;00m torch\u001b[38;5;241m.\u001b[39mno_grad():\n\u001b[0;32m--> 820\u001b[0m     param_applied \u001b[38;5;241m=\u001b[39m \u001b[43mfn\u001b[49m\u001b[43m(\u001b[49m\u001b[43mparam\u001b[49m\u001b[43m)\u001b[49m\n\u001b[1;32m    821\u001b[0m should_use_set_data \u001b[38;5;241m=\u001b[39m compute_should_use_set_data(param, param_applied)\n\u001b[1;32m    822\u001b[0m \u001b[38;5;28;01mif\u001b[39;00m should_use_set_data:\n",
      "File \u001b[0;32m~/miniconda3/lib/python3.11/site-packages/torch/nn/modules/module.py:1143\u001b[0m, in \u001b[0;36mModule.to.<locals>.convert\u001b[0;34m(t)\u001b[0m\n\u001b[1;32m   1140\u001b[0m \u001b[38;5;28;01mif\u001b[39;00m convert_to_format \u001b[38;5;129;01mis\u001b[39;00m \u001b[38;5;129;01mnot\u001b[39;00m \u001b[38;5;28;01mNone\u001b[39;00m \u001b[38;5;129;01mand\u001b[39;00m t\u001b[38;5;241m.\u001b[39mdim() \u001b[38;5;129;01min\u001b[39;00m (\u001b[38;5;241m4\u001b[39m, \u001b[38;5;241m5\u001b[39m):\n\u001b[1;32m   1141\u001b[0m     \u001b[38;5;28;01mreturn\u001b[39;00m t\u001b[38;5;241m.\u001b[39mto(device, dtype \u001b[38;5;28;01mif\u001b[39;00m t\u001b[38;5;241m.\u001b[39mis_floating_point() \u001b[38;5;129;01mor\u001b[39;00m t\u001b[38;5;241m.\u001b[39mis_complex() \u001b[38;5;28;01melse\u001b[39;00m \u001b[38;5;28;01mNone\u001b[39;00m,\n\u001b[1;32m   1142\u001b[0m                 non_blocking, memory_format\u001b[38;5;241m=\u001b[39mconvert_to_format)\n\u001b[0;32m-> 1143\u001b[0m \u001b[38;5;28;01mreturn\u001b[39;00m \u001b[43mt\u001b[49m\u001b[38;5;241;43m.\u001b[39;49m\u001b[43mto\u001b[49m\u001b[43m(\u001b[49m\u001b[43mdevice\u001b[49m\u001b[43m,\u001b[49m\u001b[43m \u001b[49m\u001b[43mdtype\u001b[49m\u001b[43m \u001b[49m\u001b[38;5;28;43;01mif\u001b[39;49;00m\u001b[43m \u001b[49m\u001b[43mt\u001b[49m\u001b[38;5;241;43m.\u001b[39;49m\u001b[43mis_floating_point\u001b[49m\u001b[43m(\u001b[49m\u001b[43m)\u001b[49m\u001b[43m \u001b[49m\u001b[38;5;129;43;01mor\u001b[39;49;00m\u001b[43m \u001b[49m\u001b[43mt\u001b[49m\u001b[38;5;241;43m.\u001b[39;49m\u001b[43mis_complex\u001b[49m\u001b[43m(\u001b[49m\u001b[43m)\u001b[49m\u001b[43m \u001b[49m\u001b[38;5;28;43;01melse\u001b[39;49;00m\u001b[43m \u001b[49m\u001b[38;5;28;43;01mNone\u001b[39;49;00m\u001b[43m,\u001b[49m\u001b[43m \u001b[49m\u001b[43mnon_blocking\u001b[49m\u001b[43m)\u001b[49m\n",
      "\u001b[0;31mRuntimeError\u001b[0m: CUDA error: device-side assert triggered\nCUDA kernel errors might be asynchronously reported at some other API call, so the stacktrace below might be incorrect.\nFor debugging consider passing CUDA_LAUNCH_BLOCKING=1.\nCompile with `TORCH_USE_CUDA_DSA` to enable device-side assertions.\n"
     ]
    }
   ],
   "source": [
    "model, tokenizer = load_model_and_tokenizer(\"philschmid/bart-large-cnn-samsum\")"
   ]
  },
  {
   "cell_type": "code",
   "execution_count": null,
   "id": "c264eb57-4eab-41bd-ae67-d5521162954f",
   "metadata": {},
   "outputs": [],
   "source": [
    "output = summarize_via_tokenbatches(text,model,tokenizer)"
   ]
  },
  {
   "cell_type": "code",
   "execution_count": null,
   "id": "8825a9f3-717c-4f1d-88de-0b0e2f7c62cc",
   "metadata": {},
   "outputs": [],
   "source": [
    "output"
   ]
  },
  {
   "cell_type": "code",
   "execution_count": 95,
   "id": "d99d5965-8474-4bfd-9312-a801aa122bd0",
   "metadata": {},
   "outputs": [
    {
     "data": {
      "text/plain": [
       "[{'summary_text': \"Professor Goodhart is introducing his students to cloud computing this summer's method twenty twenty. The material provided by Christian Bone is interchangeable and so he and professor Goodhart will do the same footage. Professor Goodhart has never done an online course in the manner they're doing now.\"}]"
      ]
     },
     "execution_count": 95,
     "metadata": {},
     "output_type": "execute_result"
    }
   ],
   "source": [
    "from transformers import pipeline\n",
    "summarizer = pipeline(\"summarization\", model=\"philschmid/bart-large-cnn-samsum\")\n",
    "\n",
    "conversation = '''Jeff: Can I train a 🤗 Transformers model on Amazon SageMaker? \n",
    "Philipp: Sure you can use the new Hugging Face Deep Learning Container. \n",
    "Jeff: ok.\n",
    "Jeff: and how can I get started? \n",
    "Jeff: where can I find documentation? \n",
    "Philipp: ok, ok you can find everything here. https://huggingface.co/blog/the-partnership-amazon-sagemaker-and-hugging-face                                           \n",
    "'''\n",
    "summarizer(text)"
   ]
  },
  {
   "cell_type": "code",
   "execution_count": null,
   "id": "eabb6476-08e6-44a8-b5a1-d62d9b6b2eaa",
   "metadata": {},
   "outputs": [],
   "source": []
  }
 ],
 "metadata": {
  "kernelspec": {
   "display_name": "Python 3 (ipykernel)",
   "language": "python",
   "name": "python3"
  },
  "language_info": {
   "codemirror_mode": {
    "name": "ipython",
    "version": 3
   },
   "file_extension": ".py",
   "mimetype": "text/x-python",
   "name": "python",
   "nbconvert_exporter": "python",
   "pygments_lexer": "ipython3",
   "version": "3.11.4"
  }
 },
 "nbformat": 4,
 "nbformat_minor": 5
}
