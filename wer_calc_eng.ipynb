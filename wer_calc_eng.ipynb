{
 "cells": [
  {
   "cell_type": "code",
   "execution_count": 18,
   "id": "cdd8a820-9e35-4611-8db0-65fcad0d1283",
   "metadata": {},
   "outputs": [],
   "source": [
    "import numpy as np\n",
    "import glob\n",
    "import string\n",
    "from statistics import mean\n",
    "def calculate_wer(reference, hypothesis):\n",
    "    # Split the reference and hypothesis sentences into words\n",
    "    ref_words = reference.split()\n",
    "    hyp_words = hypothesis.split()\n",
    "    # Initialize a matrix with size |ref_words|+1 x |hyp_words|+1\n",
    "    # The extra row and column are for the case when one of the strings is empty\n",
    "    d = np.zeros((len(ref_words) + 1, len(hyp_words) + 1))\n",
    "    # The number of operations for an empty hypothesis to become the reference\n",
    "    # is just the number of words in the reference (i.e., deleting all words)\n",
    "    for i in range(len(ref_words) + 1):\n",
    "        d[i, 0] = i\n",
    "    # The number of operations for an empty reference to become the hypothesis\n",
    "    # is just the number of words in the hypothesis (i.e., inserting all words)\n",
    "    for j in range(len(hyp_words) + 1):\n",
    "        d[0, j] = j\n",
    "    # Iterate over the words in the reference and hypothesis\n",
    "    for i in range(1, len(ref_words) + 1):\n",
    "        for j in range(1, len(hyp_words) + 1):\n",
    "            # If the current words are the same, no operation is needed\n",
    "            # So we just take the previous minimum number of operations\n",
    "            if ref_words[i - 1] == hyp_words[j - 1]:\n",
    "                d[i, j] = d[i - 1, j - 1]\n",
    "            else:\n",
    "                # If the words are different, we consider three operations:\n",
    "                # substitution, insertion, and deletion\n",
    "                # And we take the minimum of these three possibilities\n",
    "                substitution = d[i - 1, j - 1] + 1\n",
    "                insertion = d[i, j - 1] + 1\n",
    "                deletion = d[i - 1, j] + 1\n",
    "                d[i, j] = min(substitution, insertion, deletion)\n",
    "    # The minimum number of operations to transform the hypothesis into the reference\n",
    "    # is in the bottom-right cell of the matrix\n",
    "    # We divide this by the number of words in the reference to get the WER\n",
    "    wer = d[len(ref_words), len(hyp_words)] / len(ref_words)\n",
    "    return wer"
   ]
  },
  {
   "cell_type": "code",
   "execution_count": 19,
   "id": "21b4cc72-2a93-43bc-a1ab-52edf66797a6",
   "metadata": {},
   "outputs": [],
   "source": [
    "ref_files=sorted(glob.glob(\"/home/dlobo/outputs/from_vid/english/*gigaspeech*\"))\n",
    "all_hyp = []\n",
    "hyp_files = sorted(glob.glob(\"/home/dlobo/outputs/from_vid/english/*0.2*\"))\n",
    "for i in range(0, len(hyp_files), 2):\n",
    "    chunk = hyp_files[i:i + 2]\n",
    "    all_hyp.append(chunk)\n",
    "    "
   ]
  },
  {
   "cell_type": "code",
   "execution_count": 20,
   "id": "5baf1fcb-cf22-43cd-aed3-48f2a687c6cd",
   "metadata": {},
   "outputs": [],
   "source": [
    "def ref_to_hyp(ref,hyp):\n",
    "    with open(ref) as f:\n",
    "        text = f.readlines()\n",
    "        content = '.'.join(text)\n",
    "        clean_content = content.replace('\\n','')\n",
    "        ref = clean_content.replace(\".\",\" \")\n",
    "        ref = ref.translate(str.maketrans('', '', string.punctuation))\n",
    "\n",
    "    with open(hyp[0]) as f:\n",
    "        text = f.readlines()\n",
    "        content = '.'.join(text)\n",
    "        clean_content = content.replace('\\n','')\n",
    "        hyp_22 = clean_content.replace(\".\",\" \")\n",
    "        hyp_22 = hyp_22.translate(str.maketrans('', '', string.punctuation))\n",
    "    with open(hyp[1]) as f:\n",
    "        text = f.readlines()\n",
    "        content = '.'.join(text)\n",
    "        clean_content = content.replace('\\n','')\n",
    "        hyp_lib = clean_content.replace(\".\",\" \")\n",
    "        hyp_lib = hyp_lib.translate(str.maketrans('', '', string.punctuation))\n",
    "    print(\"0.22 compared to 0.42 giga WER =\",calculate_wer(ref,hyp_22))\n",
    "    print(\"lib compared to 0.42 giga WER =\",calculate_wer(ref,hyp_lib))\n",
    "    "
   ]
  },
  {
   "cell_type": "code",
   "execution_count": 21,
   "id": "fba09366-a8a2-4bf7-b49d-5c424bfd91e8",
   "metadata": {},
   "outputs": [
    {
     "name": "stdout",
     "output_type": "stream",
     "text": [
      "Calculating WER for cloudcomputing01-1\n",
      "0.22 compared to 0.42 giga WER = 0.1568862275449102\n",
      "lib compared to 0.42 giga WER = 0.36167664670658684\n",
      "Calculating WER for cloudcomputing01-2\n",
      "0.22 compared to 0.42 giga WER = 0.22616033755274262\n",
      "lib compared to 0.42 giga WER = 0.4320675105485232\n",
      "Calculating WER for cloudcomputing01-3\n",
      "0.22 compared to 0.42 giga WER = 0.17521902377972465\n",
      "lib compared to 0.42 giga WER = 0.3879849812265332\n",
      "Calculating WER for cloudcomputing01-4\n",
      "0.22 compared to 0.42 giga WER = 0.19581233036060489\n",
      "lib compared to 0.42 giga WER = 0.3559519193485847\n",
      "Calculating WER for cloudcomputing01-5\n",
      "0.22 compared to 0.42 giga WER = 0.22844444444444445\n",
      "lib compared to 0.42 giga WER = 0.44266666666666665\n"
     ]
    }
   ],
   "source": [
    "for i in range(len(ref_files)):\n",
    "    name = ref_files[i].split('/')[-1].split('_')[0] + ref_files[i].split('/')[-1].split('_')[1] + ref_files[i].split('/')[-1].split('_')[2]\n",
    "    print(\"Calculating WER for\",name)\n",
    "    ref_to_hyp(ref_files[i],all_hyp[i])\n",
    "    "
   ]
  },
  {
   "cell_type": "code",
   "execution_count": null,
   "id": "a30dfbed-d421-4a0b-b000-6f98b9821030",
   "metadata": {},
   "outputs": [],
   "source": []
  }
 ],
 "metadata": {
  "kernelspec": {
   "display_name": "Python 3 (ipykernel)",
   "language": "python",
   "name": "python3"
  },
  "language_info": {
   "codemirror_mode": {
    "name": "ipython",
    "version": 3
   },
   "file_extension": ".py",
   "mimetype": "text/x-python",
   "name": "python",
   "nbconvert_exporter": "python",
   "pygments_lexer": "ipython3",
   "version": "3.11.4"
  }
 },
 "nbformat": 4,
 "nbformat_minor": 5
}
